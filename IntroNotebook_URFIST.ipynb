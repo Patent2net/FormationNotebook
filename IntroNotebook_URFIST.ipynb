{
  "cells": [
    {
      "cell_type": "markdown",
      "metadata": {
        "id": "dlvlfbO4_-8N"
      },
      "source": [
        "\n",
        "\n",
        "# Une Introduction à la programmation par les notebooks\n",
        ": credits :  Pierre-Carl Michaud (https://github.com/pcmichaud)\n",
        "\n",
        "Faire de la science à partir de données quantitatives, demande une bonne connaissance de la programmation. Python est un langage très [populaire](https://www.economist.com/sites/default/files/20180728_WOC883.png) qui compte nombre de librairies opérationnelles et simples à utiliser. Google colab nous permet de l'utiliser directement sur le web sans installation !"
      ]
    },
    {
      "cell_type": "markdown",
      "metadata": {
        "id": "g9u7D53M_-8O"
      },
      "source": [
        "Programmer est utile afin de: \n",
        "\n",
        "* bien comprendre un problème (*you understand it if you can program it*)\n",
        "* permet de considérer des modèles sans solution analytique\n",
        "* efficacité afin de considérer robustesse\n",
        "* éviter la répétition\n",
        "* éviter les erreur de manipulation humaine\n",
        "* traiter un volume élevé de données"
      ]
    },
    {
      "cell_type": "markdown",
      "metadata": {
        "id": "CoFO4dM4M8Fm"
      },
      "source": [
        "Un bon programme est: \n",
        "* lisible\n",
        "* bien documenté\n",
        "* évite la répétition inutile\n",
        "\n",
        "Les notebooks python sont une bonne façon d'apprendre la programmation. [Écoutez quelques personalités du web](https://www.youtube.com/watch?v=Dv7gLpW91DM) vous parler de l'importance de programmer. "
      ]
    },
    {
      "cell_type": "code",
      "source": [
        "import this"
      ],
      "metadata": {
        "id": "6rYMfpmYAX6M"
      },
      "execution_count": null,
      "outputs": []
    },
    {
      "cell_type": "markdown",
      "metadata": {
        "id": "znJB4EnX_-8P"
      },
      "source": [
        "## Utiliser le notebook"
      ]
    },
    {
      "cell_type": "markdown",
      "metadata": {
        "id": "LwBVGn2j_-8Q"
      },
      "source": [
        "Un notebook n'est rien d'autre qu'une combinaison de texte et de code/output python. Attaché à un interpréteur, le notebook permet de garder ensemble des notes et des codes produisant des résultats. Il est composé de cellules. La cellule où j'écris ces lignes est une cellule markdown. Markdown est un langage multifonction qui permet d'écrire du texte, le mettre en forme, etc. Un petit guide de démarrage se trouve [ici](https://www.markdownguide.org/basic-syntax/). \n",
        "\n",
        "Quand on exécute une cellule, dans le menu ici-haut ou bien on fait shift+Enter, la cellule va être lancée sur markdown pour nous donner le texte mis en forme. Google colab nous met aussi un apercu à côté de la cellule en mode édition. Cliquez deux fois sur la cellule pour voir le code. Par exemple voici une liste :\n",
        "* markdown est très utile\n",
        "* on peut y faire des équations: $g(x,y) = \\frac{y}{x}$. \n",
        "* on peut mettre des liens web : [lien vers google](https://www.google.com)\n",
        "\n",
        "Pour créer une cellule, on clique sur + Code ici haut si on veut une cellule de code Python et + Texte si on veut une cellule markdown. Plusieurs autres fonctionalités sont possibles. "
      ]
    },
    {
      "cell_type": "markdown",
      "metadata": {
        "id": "XZF8yi2vNib8"
      },
      "source": [
        "On peut mettre l'image d'un beau python: \n",
        "<p align=\"center\">\n",
        "<img src=\"https://images.idgesg.net/images/\n",
        "article/2018/07/python-100763894-large.jpg\" \n",
        "alt=\"drawing\" width=\"350\"/>"
      ]
    },
    {
      "cell_type": "markdown",
      "source": [
        "# A vous\n",
        "\n",
        "1. Créer ci-dessous une celulle de code. Affectez la valeur 4 à la variable var1 et la valeur \"chaine de caractère\" à la variable var2 à l'aide du signe '=' comme ceci :\n",
        "\n",
        "\n",
        "```\n",
        "# exemple\n",
        "var1 = 4\n",
        "```\n",
        "\n",
        "> Notez que les lignes commençant par # sont des commentaires et non interprétées par python\n"
      ],
      "metadata": {
        "id": "ZAqQGhIbNbww"
      }
    },
    {
      "cell_type": "markdown",
      "source": [
        "2. Partagez votre réalisation avec votre formateur à l'adresse : dreymond33@gmail.com\n",
        "\n",
        "3. Exprimez vos attentes quant à cette formation"
      ],
      "metadata": {
        "id": "exAIlytkORff"
      }
    },
    {
      "cell_type": "markdown",
      "metadata": {
        "id": "0J-GJAVuO1Dy"
      },
      "source": [
        "# Épilogue\n",
        "\n",
        "Ce notebook sera complété afin d'introduire le langage et les commandes de bases. Mais ce ne sera pas une formation ni exhaustive au langage python ni à la programmation. Nous parcourons sous la même forme (notebook à compléter) des raccourcis ciblés sur l'utilisation de python et des notebooks pour le traitement de données textuelles (massives) essentiellement."
      ]
    }
  ],
  "metadata": {
    "accelerator": "GPU",
    "colab": {
      "collapsed_sections": [],
      "name": "IntroNotebook-URFIST.ipynb",
      "provenance": [],
      "toc_visible": true
    },
    "kernelspec": {
      "display_name": "Python 3",
      "language": "python",
      "name": "python3"
    },
    "language_info": {
      "codemirror_mode": {
        "name": "ipython",
        "version": 3
      },
      "file_extension": ".py",
      "mimetype": "text/x-python",
      "name": "python",
      "nbconvert_exporter": "python",
      "pygments_lexer": "ipython3",
      "version": "3.7.7"
    },
    "varInspector": {
      "cols": {
        "lenName": 16,
        "lenType": 16,
        "lenVar": 40
      },
      "kernels_config": {
        "python": {
          "delete_cmd_postfix": "",
          "delete_cmd_prefix": "del ",
          "library": "var_list.py",
          "varRefreshCmd": "print(var_dic_list())"
        },
        "r": {
          "delete_cmd_postfix": ") ",
          "delete_cmd_prefix": "rm(",
          "library": "var_list.r",
          "varRefreshCmd": "cat(var_dic_list()) "
        }
      },
      "types_to_exclude": [
        "module",
        "function",
        "builtin_function_or_method",
        "instance",
        "_Feature"
      ],
      "window_display": false
    }
  },
  "nbformat": 4,
  "nbformat_minor": 0
}